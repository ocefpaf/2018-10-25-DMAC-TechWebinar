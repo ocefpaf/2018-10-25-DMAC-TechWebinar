{
 "cells": [
  {
   "cell_type": "code",
   "execution_count": 1,
   "metadata": {
    "slideshow": {
     "slide_type": "skip"
    }
   },
   "outputs": [],
   "source": [
    "%matplotlib inline\n",
    "from hurricane_gis import load_best_track\n",
    "from matplotlib import style\n",
    "\n",
    "style.use('dark_background')"
   ]
  },
  {
   "cell_type": "markdown",
   "metadata": {
    "slideshow": {
     "slide_type": "slide"
    }
   },
   "source": [
    "- putting everything together to build GIS App for Michael;\n",
    "- fetching data using `pyoos`;\n",
    "- interactive maps (`folium`);\n",
    "- HTML plots (`bokeh`)."
   ]
  },
  {
   "cell_type": "code",
   "execution_count": 2,
   "metadata": {
    "slideshow": {
     "slide_type": "slide"
    }
   },
   "outputs": [
    {
     "data": {
      "text/html": [
       "\n",
       "        <iframe\n",
       "            width=\"100%\"\n",
       "            height=\"450\"\n",
       "            src=\"https://ioos.github.io/notebooks_demos/code_gallery\"\n",
       "            frameborder=\"0\"\n",
       "            allowfullscreen\n",
       "        ></iframe>\n",
       "        "
      ],
      "text/plain": [
       "<IPython.lib.display.IFrame at 0x7f12a0b47470>"
      ]
     },
     "execution_count": 2,
     "metadata": {},
     "output_type": "execute_result"
    }
   ],
   "source": [
    "from IPython.display import IFrame\n",
    "\n",
    "IFrame('https://ioos.github.io/notebooks_demos/code_gallery', width='100%', height=450)"
   ]
  },
  {
   "cell_type": "markdown",
   "metadata": {
    "slideshow": {
     "slide_type": "slide"
    }
   },
   "source": [
    "![XKCD data pipeline](https://imgs.xkcd.com/comics/data_pipeline.png)\n",
    "\n",
    "[https://xkcd.com/2054](https://xkcd.com/2054/)"
   ]
  },
  {
   "cell_type": "code",
   "execution_count": 3,
   "metadata": {
    "slideshow": {
     "slide_type": "slide"
    }
   },
   "outputs": [],
   "source": [
    "radii, pts = load_best_track(code='al14', year='2018')\n",
    "\n",
    "start = radii.index[0]\n",
    "end = radii.index[-1]\n",
    "bbox = tuple(radii['geometry'].total_bounds)"
   ]
  },
  {
   "cell_type": "code",
   "execution_count": 4,
   "metadata": {
    "slideshow": {
     "slide_type": "fragment"
    }
   },
   "outputs": [
    {
     "name": "stdout",
     "output_type": "stream",
     "text": [
      "bbox: -89.23, 15.71, -69.99, 38.80\n",
      "start: 2018-10-07 12:00:00\n",
      "  end: 2018-10-12 06:00:00\n"
     ]
    }
   ],
   "source": [
    "strbbox = ', '.join(format(v, '.2f') for v in bbox)\n",
    "print(f'bbox: {strbbox}\\nstart: {start}\\n  end: {end}')"
   ]
  },
  {
   "cell_type": "code",
   "execution_count": 5,
   "metadata": {
    "slideshow": {
     "slide_type": "slide"
    }
   },
   "outputs": [],
   "source": [
    "import shapely\n",
    "\n",
    "\n",
    "coords = zip(pts['LON'], pts['LAT'])\n",
    "track = shapely.geometry.LineString(coords)"
   ]
  },
  {
   "cell_type": "code",
   "execution_count": 6,
   "metadata": {
    "slideshow": {
     "slide_type": "skip"
    }
   },
   "outputs": [],
   "source": [
    "import cf_units\n",
    "from ioos_tools.ioos import collector2table\n",
    "import pandas as pd\n",
    "from pyoos.collectors.coops.coops_sos import CoopsSos\n",
    "from retrying import retry\n",
    "\n",
    "\n",
    "# We need to retry in case of failure b/c the server cannot handle\n",
    "# the high traffic during events like hurricanes.\n",
    "@retry(stop_max_attempt_number=5, wait_fixed=3000)\n",
    "def get_coops(start, end, sos_name, units, bbox, verbose=False):\n",
    "    collector = CoopsSos()\n",
    "    collector.set_bbox(bbox)\n",
    "    collector.end_time = end\n",
    "    collector.start_time = start\n",
    "    collector.variables = [sos_name]\n",
    "    ofrs = collector.server.offerings\n",
    "    title = collector.server.identification.title\n",
    "    config = dict(\n",
    "        units=units,\n",
    "        sos_name=sos_name,\n",
    "    )\n",
    "\n",
    "    data = collector2table(\n",
    "        collector=collector,\n",
    "        config=config,\n",
    "        col=f'{sos_name} ({units.format(cf_units.UT_ISO_8859_1)})'\n",
    "    )\n",
    "\n",
    "    # Clean the table.\n",
    "    table = dict(\n",
    "        station_name=[s._metadata.get('station_name') for s in data],\n",
    "        station_code=[s._metadata.get('station_code') for s in data],\n",
    "        sensor=[s._metadata.get('sensor') for s in data],\n",
    "        lon=[s._metadata.get('lon') for s in data],\n",
    "        lat=[s._metadata.get('lat') for s in data],\n",
    "        depth=[s._metadata.get('depth', 'NA') for s in data],\n",
    "    )\n",
    "\n",
    "    table = pd.DataFrame(table).set_index('station_name')\n",
    "    if verbose:\n",
    "        print('Collector offerings')\n",
    "        print(f'{title}: {len(ofrs)} offerings')\n",
    "    return data, table"
   ]
  },
  {
   "cell_type": "code",
   "execution_count": 7,
   "metadata": {
    "slideshow": {
     "slide_type": "slide"
    }
   },
   "outputs": [
    {
     "data": {
      "text/html": [
       "<div>\n",
       "<style scoped>\n",
       "    .dataframe tbody tr th:only-of-type {\n",
       "        vertical-align: middle;\n",
       "    }\n",
       "\n",
       "    .dataframe tbody tr th {\n",
       "        vertical-align: top;\n",
       "    }\n",
       "\n",
       "    .dataframe thead th {\n",
       "        text-align: right;\n",
       "    }\n",
       "</style>\n",
       "<table border=\"1\" class=\"dataframe\">\n",
       "  <thead>\n",
       "    <tr style=\"text-align: right;\">\n",
       "      <th></th>\n",
       "      <th>station_code</th>\n",
       "      <th>sensor</th>\n",
       "      <th>lon</th>\n",
       "      <th>lat</th>\n",
       "      <th>depth</th>\n",
       "    </tr>\n",
       "    <tr>\n",
       "      <th>station_name</th>\n",
       "      <th></th>\n",
       "      <th></th>\n",
       "      <th></th>\n",
       "      <th></th>\n",
       "      <th></th>\n",
       "    </tr>\n",
       "  </thead>\n",
       "  <tbody>\n",
       "    <tr>\n",
       "      <th>Chickasaw Creek, AL</th>\n",
       "      <td>8737138</td>\n",
       "      <td>urn:ioos:sensor:NOAA.NOS.CO-OPS:8737138:Y1</td>\n",
       "      <td>-88.0736</td>\n",
       "      <td>30.7819</td>\n",
       "      <td>None</td>\n",
       "    </tr>\n",
       "    <tr>\n",
       "      <th>West Fowl River Bridge, AL</th>\n",
       "      <td>8738043</td>\n",
       "      <td>urn:ioos:sensor:NOAA.NOS.CO-OPS:8738043:Y1</td>\n",
       "      <td>-88.1586</td>\n",
       "      <td>30.3766</td>\n",
       "      <td>None</td>\n",
       "    </tr>\n",
       "    <tr>\n",
       "      <th>Bayou La Batre Bridge, AL</th>\n",
       "      <td>8739803</td>\n",
       "      <td>urn:ioos:sensor:NOAA.NOS.CO-OPS:8739803:Y1</td>\n",
       "      <td>-88.2478</td>\n",
       "      <td>30.4062</td>\n",
       "      <td>None</td>\n",
       "    </tr>\n",
       "    <tr>\n",
       "      <th>Grand Bay NERR, Mississippi Sound, MS</th>\n",
       "      <td>8740166</td>\n",
       "      <td>urn:ioos:sensor:NOAA.NOS.CO-OPS:8740166:A1</td>\n",
       "      <td>-88.4029</td>\n",
       "      <td>30.4132</td>\n",
       "      <td>None</td>\n",
       "    </tr>\n",
       "    <tr>\n",
       "      <th>Pascagoula NOAA Lab, MS</th>\n",
       "      <td>8741533</td>\n",
       "      <td>urn:ioos:sensor:NOAA.NOS.CO-OPS:8741533:A1</td>\n",
       "      <td>-88.5631</td>\n",
       "      <td>30.3678</td>\n",
       "      <td>None</td>\n",
       "    </tr>\n",
       "  </tbody>\n",
       "</table>\n",
       "</div>"
      ],
      "text/plain": [
       "                                      station_code  \\\n",
       "station_name                                         \n",
       "Chickasaw Creek, AL                        8737138   \n",
       "West Fowl River Bridge, AL                 8738043   \n",
       "Bayou La Batre Bridge, AL                  8739803   \n",
       "Grand Bay NERR, Mississippi Sound, MS      8740166   \n",
       "Pascagoula NOAA Lab, MS                    8741533   \n",
       "\n",
       "                                                                           sensor  \\\n",
       "station_name                                                                        \n",
       "Chickasaw Creek, AL                    urn:ioos:sensor:NOAA.NOS.CO-OPS:8737138:Y1   \n",
       "West Fowl River Bridge, AL             urn:ioos:sensor:NOAA.NOS.CO-OPS:8738043:Y1   \n",
       "Bayou La Batre Bridge, AL              urn:ioos:sensor:NOAA.NOS.CO-OPS:8739803:Y1   \n",
       "Grand Bay NERR, Mississippi Sound, MS  urn:ioos:sensor:NOAA.NOS.CO-OPS:8740166:A1   \n",
       "Pascagoula NOAA Lab, MS                urn:ioos:sensor:NOAA.NOS.CO-OPS:8741533:A1   \n",
       "\n",
       "                                           lon      lat depth  \n",
       "station_name                                                   \n",
       "Chickasaw Creek, AL                   -88.0736  30.7819  None  \n",
       "West Fowl River Bridge, AL            -88.1586  30.3766  None  \n",
       "Bayou La Batre Bridge, AL             -88.2478  30.4062  None  \n",
       "Grand Bay NERR, Mississippi Sound, MS -88.4029  30.4132  None  \n",
       "Pascagoula NOAA Lab, MS               -88.5631  30.3678  None  "
      ]
     },
     "execution_count": 7,
     "metadata": {},
     "output_type": "execute_result"
    }
   ],
   "source": [
    "ssh, ssh_table = get_coops(\n",
    "    start=start,\n",
    "    end=end,\n",
    "    sos_name='water_surface_height_above_reference_datum',\n",
    "    units=cf_units.Unit('meters'),\n",
    "    bbox=bbox,\n",
    ")\n",
    "\n",
    "ssh_table.tail()"
   ]
  },
  {
   "cell_type": "code",
   "execution_count": 8,
   "metadata": {
    "scrolled": true,
    "slideshow": {
     "slide_type": "slide"
    }
   },
   "outputs": [
    {
     "data": {
      "text/html": [
       "<div>\n",
       "<style scoped>\n",
       "    .dataframe tbody tr th:only-of-type {\n",
       "        vertical-align: middle;\n",
       "    }\n",
       "\n",
       "    .dataframe tbody tr th {\n",
       "        vertical-align: top;\n",
       "    }\n",
       "\n",
       "    .dataframe thead th {\n",
       "        text-align: right;\n",
       "    }\n",
       "</style>\n",
       "<table border=\"1\" class=\"dataframe\">\n",
       "  <thead>\n",
       "    <tr style=\"text-align: right;\">\n",
       "      <th></th>\n",
       "      <th>station_code</th>\n",
       "      <th>sensor</th>\n",
       "      <th>lon</th>\n",
       "      <th>lat</th>\n",
       "      <th>depth</th>\n",
       "    </tr>\n",
       "    <tr>\n",
       "      <th>station_name</th>\n",
       "      <th></th>\n",
       "      <th></th>\n",
       "      <th></th>\n",
       "      <th></th>\n",
       "      <th></th>\n",
       "    </tr>\n",
       "  </thead>\n",
       "  <tbody>\n",
       "    <tr>\n",
       "      <th>Pensacola, FL</th>\n",
       "      <td>8729840</td>\n",
       "      <td>urn:ioos:sensor:NOAA.NOS.CO-OPS:8729840:C1</td>\n",
       "      <td>-87.2112</td>\n",
       "      <td>30.4044</td>\n",
       "      <td>None</td>\n",
       "    </tr>\n",
       "    <tr>\n",
       "      <th>Fort Morgan, AL</th>\n",
       "      <td>8734673</td>\n",
       "      <td>urn:ioos:sensor:NOAA.NOS.CO-OPS:8734673:C1</td>\n",
       "      <td>-88.0250</td>\n",
       "      <td>30.2283</td>\n",
       "      <td>None</td>\n",
       "    </tr>\n",
       "    <tr>\n",
       "      <th>Dauphin Island, AL</th>\n",
       "      <td>8735180</td>\n",
       "      <td>urn:ioos:sensor:NOAA.NOS.CO-OPS:8735180:C1</td>\n",
       "      <td>-88.0750</td>\n",
       "      <td>30.2500</td>\n",
       "      <td>None</td>\n",
       "    </tr>\n",
       "    <tr>\n",
       "      <th>Coast Guard Sector Mobile, AL</th>\n",
       "      <td>8736897</td>\n",
       "      <td>urn:ioos:sensor:NOAA.NOS.CO-OPS:8736897:C1</td>\n",
       "      <td>-88.0583</td>\n",
       "      <td>30.6483</td>\n",
       "      <td>None</td>\n",
       "    </tr>\n",
       "    <tr>\n",
       "      <th>Petit Bois Island, Port of Pascagoula, MS</th>\n",
       "      <td>8741003</td>\n",
       "      <td>urn:ioos:sensor:NOAA.NOS.CO-OPS:8741003:C1</td>\n",
       "      <td>-88.5000</td>\n",
       "      <td>30.2133</td>\n",
       "      <td>None</td>\n",
       "    </tr>\n",
       "  </tbody>\n",
       "</table>\n",
       "</div>"
      ],
      "text/plain": [
       "                                          station_code  \\\n",
       "station_name                                             \n",
       "Pensacola, FL                                  8729840   \n",
       "Fort Morgan, AL                                8734673   \n",
       "Dauphin Island, AL                             8735180   \n",
       "Coast Guard Sector Mobile, AL                  8736897   \n",
       "Petit Bois Island, Port of Pascagoula, MS      8741003   \n",
       "\n",
       "                                                                               sensor  \\\n",
       "station_name                                                                            \n",
       "Pensacola, FL                              urn:ioos:sensor:NOAA.NOS.CO-OPS:8729840:C1   \n",
       "Fort Morgan, AL                            urn:ioos:sensor:NOAA.NOS.CO-OPS:8734673:C1   \n",
       "Dauphin Island, AL                         urn:ioos:sensor:NOAA.NOS.CO-OPS:8735180:C1   \n",
       "Coast Guard Sector Mobile, AL              urn:ioos:sensor:NOAA.NOS.CO-OPS:8736897:C1   \n",
       "Petit Bois Island, Port of Pascagoula, MS  urn:ioos:sensor:NOAA.NOS.CO-OPS:8741003:C1   \n",
       "\n",
       "                                               lon      lat depth  \n",
       "station_name                                                       \n",
       "Pensacola, FL                             -87.2112  30.4044  None  \n",
       "Fort Morgan, AL                           -88.0250  30.2283  None  \n",
       "Dauphin Island, AL                        -88.0750  30.2500  None  \n",
       "Coast Guard Sector Mobile, AL             -88.0583  30.6483  None  \n",
       "Petit Bois Island, Port of Pascagoula, MS -88.5000  30.2133  None  "
      ]
     },
     "execution_count": 8,
     "metadata": {},
     "output_type": "execute_result"
    }
   ],
   "source": [
    "wind_speed, wind_speed_table = get_coops(\n",
    "    start=start,\n",
    "    end=end,\n",
    "    sos_name='wind_speed',\n",
    "    units=cf_units.Unit('m/s'),\n",
    "    bbox=bbox,\n",
    ")\n",
    "\n",
    "wind_speed_table.tail()"
   ]
  },
  {
   "cell_type": "code",
   "execution_count": 9,
   "metadata": {
    "slideshow": {
     "slide_type": "slide"
    }
   },
   "outputs": [],
   "source": [
    "common = set(ssh_table['station_code']).intersection(wind_speed_table['station_code'])"
   ]
  },
  {
   "cell_type": "code",
   "execution_count": 10,
   "metadata": {
    "slideshow": {
     "slide_type": "fragment"
    }
   },
   "outputs": [],
   "source": [
    "ssh_obs, win_obs = [], []\n",
    "\n",
    "for station in common:\n",
    "    ssh_obs.extend([obs for obs in ssh if obs._metadata['station_code'] == station])\n",
    "    win_obs.extend(\n",
    "        [obs for obs in wind_speed if obs._metadata['station_code'] == station]\n",
    "    )"
   ]
  },
  {
   "cell_type": "code",
   "execution_count": 11,
   "metadata": {
    "slideshow": {
     "slide_type": "slide"
    }
   },
   "outputs": [],
   "source": [
    "index = pd.date_range(\n",
    "    start=start.replace(tzinfo=None),\n",
    "    end=end.replace(tzinfo=None),\n",
    "    freq='15min'\n",
    ")\n",
    "\n",
    "ssh_observations = []\n",
    "for series in ssh_obs:\n",
    "    _metadata = series._metadata\n",
    "    obs = series.reindex(index=index, limit=1, method='nearest')\n",
    "    obs._metadata = _metadata\n",
    "    obs.name = _metadata['station_name']\n",
    "    ssh_observations.append(obs)\n",
    "\n",
    "winds_observations = []\n",
    "for series in win_obs:\n",
    "    _metadata = series._metadata\n",
    "    obs = series.reindex(index=index, limit=1, method='nearest')\n",
    "    obs._metadata = _metadata\n",
    "    obs.name = _metadata['station_name']\n",
    "    winds_observations.append(obs)"
   ]
  },
  {
   "cell_type": "code",
   "execution_count": 12,
   "metadata": {
    "slideshow": {
     "slide_type": "slide"
    }
   },
   "outputs": [],
   "source": [
    "from bokeh.resources import CDN\n",
    "from bokeh.plotting import figure\n",
    "from bokeh.embed import file_html\n",
    "from bokeh.models import Range1d, LinearAxis, HoverTool\n",
    "\n",
    "from folium import IFrame\n",
    "\n",
    "# Plot defaults.\n",
    "tools = \"pan,box_zoom,reset\"\n",
    "width, height = 750, 250"
   ]
  },
  {
   "cell_type": "code",
   "execution_count": 13,
   "metadata": {
    "slideshow": {
     "slide_type": "slide"
    }
   },
   "outputs": [],
   "source": [
    "def make_plot(ssh, wind):\n",
    "    p = figure(toolbar_location='above', x_axis_type='datetime', width=width,\n",
    "               height=height, tools=tools, title=ssh.name)\n",
    "\n",
    "    p.yaxis.axis_label = 'wind speed (m/s)'\n",
    "    l0 = p.line(x=wind.index, y=wind.values, line_width=5, line_cap='round', alpha=0.5,\n",
    "                line_join='round', legend='wind speed (m/s)', color='#9900cc',)\n",
    "\n",
    "    p.extra_y_ranges = {}\n",
    "    p.extra_y_ranges['y2'] = Range1d(start=-1, end=3.5)\n",
    "    p.add_layout(LinearAxis(y_range_name='y2', axis_label='ssh (m)'), 'right')\n",
    "\n",
    "    l1 = p.line(\n",
    "        x=ssh.index, y=ssh.values, line_width=5, line_cap='round',\n",
    "        line_join='round', legend='ssh (m)', color='#0000ff',\n",
    "        alpha=0.5, y_range_name='y2')\n",
    "\n",
    "    p.legend.location = 'top_left'\n",
    "    p.add_tools(\n",
    "        HoverTool(tooltips=[('wind speed (m/s)', '@y'),], renderers=[l0]),\n",
    "        HoverTool(tooltips=[('ssh (m)', '@y'),], renderers=[l1]))\n",
    "    return p"
   ]
  },
  {
   "cell_type": "code",
   "execution_count": 14,
   "metadata": {
    "slideshow": {
     "slide_type": "slide"
    }
   },
   "outputs": [],
   "source": [
    "def make_marker(p, location, fname):\n",
    "    html = file_html(p, CDN, fname)\n",
    "    iframe = IFrame(html, width=width+45, height=height+80)\n",
    "\n",
    "    popup = folium.Popup(iframe, max_width=2650)\n",
    "    icon = folium.Icon(color='green', icon='stats')\n",
    "    marker = folium.Marker(location=location,\n",
    "                           popup=popup,\n",
    "                           icon=icon)\n",
    "    return marker"
   ]
  },
  {
   "cell_type": "code",
   "execution_count": 15,
   "metadata": {
    "slideshow": {
     "slide_type": "slide"
    }
   },
   "outputs": [],
   "source": [
    "import folium\n",
    "from folium.plugins import Fullscreen, MarkerCluster\n",
    "from ioos_tools.ioos import get_coordinates\n",
    "\n",
    "\n",
    "lon = track.centroid.x\n",
    "lat = track.centroid.y\n",
    "\n",
    "m = folium.Map(location=[lat, lon], tiles='OpenStreetMap', zoom_start=4)\n",
    "\n",
    "Fullscreen(position='topright', force_separate_button=True).add_to(m)\n",
    "\n",
    "marker_cluster0 = MarkerCluster(name='Observations')\n",
    "marker_cluster0.add_to(m);"
   ]
  },
  {
   "cell_type": "code",
   "execution_count": 16,
   "metadata": {
    "slideshow": {
     "slide_type": "slide"
    }
   },
   "outputs": [],
   "source": [
    "url = 'http://oos.soest.hawaii.edu/thredds/wms/hioos/satellite/dhw_5km'\n",
    "w0 = folium.WmsTileLayer(\n",
    "    url,\n",
    "    name='Sea Surface Temperature',\n",
    "    fmt='image/png',\n",
    "    layers='CRW_SST',\n",
    "    attr='PacIOOS TDS',\n",
    "    overlay=True,\n",
    "    transparent=True)\n",
    "\n",
    "url = 'http://hfrnet.ucsd.edu/thredds/wms/HFRNet/USEGC/6km/hourly/RTV'\n",
    "w1 = folium.WmsTileLayer(\n",
    "    url,\n",
    "    name='HF Radar',\n",
    "    fmt='image/png',\n",
    "    layers='surface_sea_water_velocity',\n",
    "    attr='HFRNet',\n",
    "    overlay=True,\n",
    "    transparent=True)\n",
    "\n",
    "w0.add_to(m)\n",
    "w1.add_to(m);"
   ]
  },
  {
   "cell_type": "code",
   "execution_count": 17,
   "metadata": {
    "slideshow": {
     "slide_type": "slide"
    }
   },
   "outputs": [],
   "source": [
    "colors = {\n",
    "    'EX': 'yellow',\n",
    "    'TD': 'yellow',\n",
    "    'TS': 'orange',\n",
    "    'HU': 'red',\n",
    "}"
   ]
  },
  {
   "cell_type": "code",
   "execution_count": 18,
   "metadata": {
    "slideshow": {
     "slide_type": "slide"
    }
   },
   "outputs": [],
   "source": [
    "def style_function(feature):\n",
    "    return {\n",
    "        'fillOpacity': 0,\n",
    "        'color': 'black',\n",
    "        'stroke': 1,\n",
    "        'weight': 0.5,\n",
    "        'opacity': 0.2,\n",
    "    }\n",
    "\n",
    "\n",
    "for date, row in pts.iterrows():\n",
    "    storm_type = row['STORMTYPE']\n",
    "    location = row['LAT'], row['LON']\n",
    "    popup = f'{date}<br>{storm_type}'\n",
    "    folium.CircleMarker(\n",
    "        location=location,\n",
    "        radius=10,\n",
    "        fill=True,\n",
    "        color=colors[storm_type],\n",
    "        popup=popup,\n",
    "    ).add_to(m)"
   ]
  },
  {
   "cell_type": "code",
   "execution_count": 19,
   "metadata": {
    "slideshow": {
     "slide_type": "slide"
    }
   },
   "outputs": [],
   "source": [
    "for ssh, wind in zip(ssh_observations, winds_observations):\n",
    "    fname = ssh._metadata['station_code']\n",
    "    location = ssh._metadata['lat'], ssh._metadata['lon']\n",
    "    p = make_plot(ssh, wind)\n",
    "    marker = make_marker(p, location=location, fname=fname)\n",
    "    marker.add_to(marker_cluster0)\n",
    "\n",
    "folium.LayerControl().add_to(m)\n",
    "\n",
    "p = folium.PolyLine(get_coordinates(bbox),\n",
    "                    color='#009933',\n",
    "                    weight=1,\n",
    "                    opacity=0.2)\n",
    "\n",
    "p.add_to(m);"
   ]
  },
  {
   "cell_type": "code",
   "execution_count": 20,
   "metadata": {
    "slideshow": {
     "slide_type": "skip"
    }
   },
   "outputs": [],
   "source": [
    "def embed_map(m):\n",
    "    from IPython.display import IFrame\n",
    "\n",
    "    m.save('index.html')\n",
    "    return IFrame('index.html', width='100%', height='750px')"
   ]
  },
  {
   "cell_type": "code",
   "execution_count": 21,
   "metadata": {
    "scrolled": false,
    "slideshow": {
     "slide_type": "slide"
    }
   },
   "outputs": [
    {
     "data": {
      "text/html": [
       "\n",
       "        <iframe\n",
       "            width=\"100%\"\n",
       "            height=\"750px\"\n",
       "            src=\"index.html\"\n",
       "            frameborder=\"0\"\n",
       "            allowfullscreen\n",
       "        ></iframe>\n",
       "        "
      ],
      "text/plain": [
       "<IPython.lib.display.IFrame at 0x7f12506f92b0>"
      ]
     },
     "execution_count": 21,
     "metadata": {},
     "output_type": "execute_result"
    }
   ],
   "source": [
    "embed_map(m)"
   ]
  }
 ],
 "metadata": {
  "_draft": {
   "nbviewer_url": "https://gist.github.com/08bdb4c3f05d8449ded5c01c73238e15"
  },
  "anaconda-cloud": {},
  "celltoolbar": "Slideshow",
  "gist": {
   "data": {
    "description": "Hurricane Irma GIS map",
    "public": true
   },
   "id": "08bdb4c3f05d8449ded5c01c73238e15"
  },
  "kernelspec": {
   "display_name": "Python 3",
   "language": "python",
   "name": "python3"
  },
  "language_info": {
   "codemirror_mode": {
    "name": "ipython",
    "version": 3
   },
   "file_extension": ".py",
   "mimetype": "text/x-python",
   "name": "python",
   "nbconvert_exporter": "python",
   "pygments_lexer": "ipython3",
   "version": "3.6.6"
  },
  "livereveal": {
   "auto_select": "none",
   "autolaunch": "true",
   "footer": " ",
   "header": "<script src='static/theme/reveal.js'></script>",
   "height": 790,
   "start_slideshow_at": "selected",
   "width": 1260
  }
 },
 "nbformat": 4,
 "nbformat_minor": 1
}
