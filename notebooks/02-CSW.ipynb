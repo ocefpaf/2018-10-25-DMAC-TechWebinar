{
 "cells": [
  {
   "cell_type": "code",
   "execution_count": 1,
   "metadata": {
    "slideshow": {
     "slide_type": "skip"
    }
   },
   "outputs": [],
   "source": [
    "%matplotlib inline\n",
    "from hurricane_gis import load_best_track\n",
    "from matplotlib import style\n",
    "\n",
    "style.use(['dark_background', 'seaborn-poster'])"
   ]
  },
  {
   "cell_type": "markdown",
   "metadata": {
    "slideshow": {
     "slide_type": "slide"
    }
   },
   "source": [
    "- searching for data endpoints with `pycsw`;\n",
    "- static maps (`cartopy`);\n",
    "- static plots (`matplotlib`)."
   ]
  },
  {
   "cell_type": "code",
   "execution_count": 2,
   "metadata": {
    "slideshow": {
     "slide_type": "slide"
    }
   },
   "outputs": [],
   "source": [
    "radii, pts = load_best_track(code='al14', year='2018')\n",
    "\n",
    "bbox = radii['geometry'].total_bounds\n",
    "min_lon, max_lon = bbox[0], bbox[2]\n",
    "min_lat, max_lat = bbox[1], bbox[3]\n",
    "\n",
    "bbox = [min_lon, min_lat, max_lon, max_lat]\n",
    "crs = 'urn:ogc:def:crs:OGC:1.3:CRS84'\n",
    "\n",
    "start = radii.index[0]\n",
    "stop = radii.index[-1]\n",
    "\n",
    "cf_names = ['sea_water_temperature',\n",
    "            'sea_surface_temperature',\n",
    "            'sea_water_potential_temperature',\n",
    "            'equivalent_potential_temperature',\n",
    "            'sea_water_conservative_temperature',\n",
    "            'pseudo_equivalent_potential_temperature']"
   ]
  },
  {
   "cell_type": "code",
   "execution_count": 3,
   "metadata": {
    "slideshow": {
     "slide_type": "skip"
    }
   },
   "outputs": [],
   "source": [
    "def fes_date_filter(start, stop, constraint='overlaps'):\n",
    "    from owslib import fes\n",
    "    start = start.strftime('%Y-%m-%d %H:00')\n",
    "    stop = stop.strftime('%Y-%m-%d %H:00')\n",
    "    if constraint == 'overlaps':\n",
    "        propertyname = 'apiso:TempExtent_begin'\n",
    "        begin = fes.PropertyIsLessThanOrEqualTo(propertyname=propertyname,\n",
    "                                                literal=stop)\n",
    "        propertyname = 'apiso:TempExtent_end'\n",
    "        end = fes.PropertyIsGreaterThanOrEqualTo(propertyname=propertyname,\n",
    "                                                 literal=start)\n",
    "    elif constraint == 'within':\n",
    "        propertyname = 'apiso:TempExtent_begin'\n",
    "        begin = fes.PropertyIsGreaterThanOrEqualTo(propertyname=propertyname,\n",
    "                                                   literal=start)\n",
    "        propertyname = 'apiso:TempExtent_end'\n",
    "        end = fes.PropertyIsLessThanOrEqualTo(propertyname=propertyname,\n",
    "                                              literal=stop)\n",
    "    else:\n",
    "        raise NameError(f'Unrecognized constraint {constraint}')\n",
    "    return begin, end"
   ]
  },
  {
   "cell_type": "code",
   "execution_count": 4,
   "metadata": {
    "slideshow": {
     "slide_type": "slide"
    }
   },
   "outputs": [],
   "source": [
    "from owslib import fes\n",
    "\n",
    "kw = dict(wildCard='*',\n",
    "          escapeChar='\\\\',\n",
    "          singleChar='?',\n",
    "          propertyname='apiso:AnyText')\n",
    "\n",
    "or_filt = fes.Or(\n",
    "    [fes.PropertyIsLike(literal=('*%s*' % val), **kw)\n",
    "     for val in cf_names])\n",
    "\n",
    "begin, end = fes_date_filter(start, stop)\n",
    "bbox_crs = fes.BBox(bbox, crs=crs)\n",
    "\n",
    "filter_list = [\n",
    "    fes.And([\n",
    "        bbox_crs,\n",
    "        begin, end, or_filt,\n",
    "        fes.Not([fes.PropertyIsLike(literal='*cdip*', **kw)])]\n",
    "    )]"
   ]
  },
  {
   "cell_type": "code",
   "execution_count": 5,
   "metadata": {
    "slideshow": {
     "slide_type": "skip"
    }
   },
   "outputs": [],
   "source": [
    "def get_csw_records(csw, filter_list, pagesize=10, maxrecords=1000):\n",
    "    \"\"\"Iterate `maxrecords`/`pagesize` times until the requested value in\n",
    "    `maxrecords` is reached.\n",
    "    \"\"\"\n",
    "    from owslib.fes import SortBy, SortProperty\n",
    "    # Iterate over sorted results.\n",
    "    sortby = SortBy([SortProperty('dc:title', 'ASC')])\n",
    "    csw_records = {}\n",
    "    startposition = 0\n",
    "    nextrecord = getattr(csw, 'results', 1)\n",
    "    while nextrecord != 0:\n",
    "        csw.getrecords2(constraints=filter_list, startposition=startposition,\n",
    "                        maxrecords=pagesize, sortby=sortby)\n",
    "        csw_records.update(csw.records)\n",
    "        if csw.results['nextrecord'] == 0:\n",
    "            break\n",
    "        startposition += pagesize + 1  # Last one is included.\n",
    "        if startposition >= maxrecords:\n",
    "            break\n",
    "    csw.records.update(csw_records)"
   ]
  },
  {
   "cell_type": "code",
   "execution_count": 6,
   "metadata": {
    "slideshow": {
     "slide_type": "slide"
    }
   },
   "outputs": [
    {
     "name": "stdout",
     "output_type": "stream",
     "text": [
      "Found 401 records.\n",
      "\n"
     ]
    }
   ],
   "source": [
    "from owslib.csw import CatalogueServiceWeb\n",
    "\n",
    "\n",
    "endpoint = 'https://data.ioos.us/csw'\n",
    "\n",
    "csw = CatalogueServiceWeb(endpoint, timeout=60)\n",
    "get_csw_records(csw, filter_list, pagesize=10, maxrecords=1000)\n",
    "\n",
    "records = '\\n'.join(csw.records.keys())\n",
    "print(f'Found {len(csw.records.keys())} records.\\n')"
   ]
  },
  {
   "cell_type": "code",
   "execution_count": 7,
   "metadata": {
    "scrolled": true,
    "slideshow": {
     "slide_type": "slide"
    }
   },
   "outputs": [
    {
     "name": "stdout",
     "output_type": "stream",
     "text": [
      "[Zeke's Basin]\n",
      "nerrs_noczbwq\n",
      "\n",
      "[* 2nd Avenue Pier]\n",
      "edu_ccu_lbos_2nd_ave_pier\n",
      "\n",
      "[41002 SOUTH HATTERAS - 225 NM South of Cape Hatteras]\n",
      "wmo_41002\n",
      "\n",
      "[41004 EDISTO - 41 NM Southeast of Charleston, SC]\n",
      "wmo_41004\n",
      "\n",
      "[41008 GRAYS REEF - 40 NM Southeast of Savannah, GA]\n",
      "university_of_georgia_uga_41008\n",
      "\n",
      "[41009 CANAVERAL 20 NM East of Cape Canaveral, FL]\n",
      "wmo_41009\n",
      "\n",
      "[41010 CANAVERAL EAST - 120NM East of Cape Canaveral]\n",
      "wmo_41010\n",
      "\n",
      "[41013 Frying Pan Shoals, NC Buoy]\n",
      "wmo_41013\n",
      "\n",
      "[* 41024 / SUN2 Sunset Nearshore]\n",
      "org_cormp_sun2\n",
      "\n",
      "[41024 / SUN2 Sunset Nearshore - sea_water_temperature]\n",
      "org.cormp:sun2:sea_water_temperature\n",
      "\n",
      "[41024 / SUN2 Sunset Nearshore - sea_water_temperature-wave_site]\n",
      "org.cormp:sun2:sea_water_temperature-wave_site\n",
      "\n",
      "[41025 Diamond Shoals]\n",
      "wmo_41025\n",
      "\n",
      "[* 41029 / CAP2 Capers Nearshore]\n",
      "org_cormp_cap2\n",
      "\n",
      "[41029 / CAP2 Capers Nearshore - sea_water_temperature]\n",
      "org.cormp:cap2:sea_water_temperature\n",
      "\n",
      "[* 41033 / FRP2 Fripp Nearshore]\n",
      "org_cormp_frp2\n",
      "\n",
      "[41033 / FRP2 Fripp Nearshore - sea_water_temperature]\n",
      "org.cormp:frp2:sea_water_temperature\n",
      "\n",
      "[* 41037 / ILM3 27 miles SE of Wrightsville Beach, NC]\n",
      "org_cormp_ilm3\n",
      "\n",
      "[41037 / ILM3 27 miles SE of Wrightsville Beach, NC - sea_water_temperature]\n",
      "org.cormp:ilm3:sea_water_temperature\n",
      "\n",
      "[* 41038 / ILM2 5 miles SE of Wrightsville Beach, NC]\n",
      "org_cormp_ilm2\n",
      "\n",
      "[41038 / ILM2 5 miles SE of Wrightsville Beach, NC - sea_water_temperature]\n",
      "org.cormp:ilm2:sea_water_temperature\n",
      "\n",
      "[41038 / ILM2 5 miles SE of Wrightsville Beach, NC - sea_water_temperature-wave_site]\n",
      "org.cormp:ilm2:sea_water_temperature-wave_site\n",
      "\n",
      "[41063 Raleigh Bay - 17 NM South of Ocracoke Inlet, NC]\n",
      "university_of_north_carolina_41063\n",
      "\n",
      "[* 41064 / LEJ3 Onslow Bay Outer, NC]\n",
      "org_cormp_lej3\n",
      "\n",
      "[41064 / LEJ3 Onslow Bay Outer, NC - sea_water_temperature]\n",
      "org.cormp:lej3:sea_water_temperature\n",
      "\n",
      "[41064 / LEJ3 Onslow Bay Outer, NC - sea_water_temperature-wave_site]\n",
      "org.cormp:lej3:sea_water_temperature-wave_site\n",
      "\n",
      "[41108 Wilmington Harbor, NC - 200]\n",
      "mil_army_usace_41108\n",
      "\n",
      "[41159 Onslow Bay Outer Waverider, NC 217]\n",
      "org_cormp_41159\n",
      "\n",
      "[42003 East GULF - 208 NM West of Naples, FL]\n",
      "wmo_42003\n",
      "\n",
      "[* 42013 - C10 - WFS Central Buoy, 25m Isobath]\n",
      "edu_usf_marine_comps_c10\n",
      "\n",
      "[42013 - C10 - WFS Central Buoy, 25m Isobath - sea_water_temperature]\n",
      "edu.usf.marine.comps:c10:sea_water_temperature\n",
      "\n",
      "[* 42022 - C12 - WFS Central Buoy, 50m Isobath]\n",
      "edu_usf_marine_comps_c12\n",
      "\n",
      "[* 42023 - C13 - WFS South Buoy, 50m Isobath]\n",
      "edu_usf_marine_comps_c13\n",
      "\n",
      "[42023 - C13 - WFS South Buoy, 50m Isobath - sea_water_temperature]\n",
      "edu.usf.marine.comps:c13:sea_water_temperature\n",
      "\n",
      "[42039 - PENSACOLA - 115NM East Southeast of Pensacola, FL]\n",
      "data.gcoos.org:8080-urn_ioos_station_ndbc_42039\n",
      "\n",
      "[42039 PENSACOLA - 115NM ESE of Pensacola, FL]\n",
      "wmo_42039\n",
      "\n",
      "[42098 Egmont Channel Entrance, FL - 214]\n",
      "gtbmac_ports_42098\n",
      "\n",
      "[44056 Duck FRF, NC]\n",
      "mil_army_usace_44056\n",
      "\n",
      "[44095 Oregon Inlet, NC - 192]\n",
      "edu_northcarolina_csi_44095\n",
      "\n",
      "[AIW AT BRIARCLIFFE ACRES AT N. MYRTLE BEACH, SC]\n",
      "gov_usgs_waterdata_02110755\n",
      "\n",
      "[AIW AT GRAND STRAND AIRPORT N. MYRTLE BEACH, SC]\n",
      "gov_usgs_waterdata_02110770\n",
      "\n",
      "[AIW @ MYRTLEWOOD GOLF COURSE @ MYRTLE BEACH, SC]\n",
      "gov_usgs_waterdata_02110760\n",
      "\n",
      "[Apache Pier - sea_water_temperature-bottom]\n",
      "edu.ccu.lbos:apache:sea_water_temperature-bottom\n",
      "\n",
      "[Apalachicola, FL]\n",
      "noaa_nos_co_ops_8728690\n",
      "\n"
     ]
    }
   ],
   "source": [
    "for key, value in list(csw.records.items()):\n",
    "    print(f'[{value.title}]\\n{key}\\n')\n",
    "    if '8728690' in key:\n",
    "        break"
   ]
  },
  {
   "cell_type": "code",
   "execution_count": 8,
   "metadata": {
    "slideshow": {
     "slide_type": "slide"
    }
   },
   "outputs": [
    {
     "data": {
      "text/plain": [
       "\"Timeseries data from 'Apalachicola, FL' (urn:ioos:station:NOAA.NOS.CO-OPS:8728690)\""
      ]
     },
     "execution_count": 8,
     "metadata": {},
     "output_type": "execute_result"
    }
   ],
   "source": [
    "value.abstract"
   ]
  },
  {
   "cell_type": "code",
   "execution_count": 9,
   "metadata": {
    "slideshow": {
     "slide_type": "slide"
    }
   },
   "outputs": [
    {
     "name": "stdout",
     "output_type": "stream",
     "text": [
      "earth science\n",
      "atmosphere\n",
      "ocean\n",
      "biosphere\n",
      "biology\n",
      "environment\n",
      "NOAA Center for Operational Oceanographic Products and Services CO-OPS\n",
      "time\n",
      "latitude\n",
      "longitude\n",
      "wind_speed\n",
      "air_pressure\n",
      "sea_surface_height_above_sea_level\n",
      "wind_from_direction\n",
      "sea_water_temperature\n",
      "wind_speed_of_gust\n",
      "air_temperature\n",
      "sea_surface_height_amplitude_due_to_geocentric_ocean_tide\n",
      "depth\n",
      "geoscientificInformation\n"
     ]
    }
   ],
   "source": [
    "print('\\n'.join(value.subjects))"
   ]
  },
  {
   "cell_type": "code",
   "execution_count": 10,
   "metadata": {
    "scrolled": false,
    "slideshow": {
     "slide_type": "slide"
    }
   },
   "outputs": [
    {
     "name": "stdout",
     "output_type": "stream",
     "text": [
      "geolink: WWW:LINK\n",
      "scheme: order\n",
      "URL: http://erddap.secoora.org/erddap/tabledap/noaa_nos_co_ops_8728690.html\n",
      "\n",
      "geolink: None\n",
      "scheme: order\n",
      "URL: http://erddap.secoora.org/erddap/tabledap/noaa_nos_co_ops_8728690.graph\n",
      "\n",
      "geolink: None\n",
      "scheme: .html\n",
      "URL: http://erddap.secoora.org/erddap/tabledap/noaa_nos_co_ops_8728690\n",
      "\n",
      "geolink: None\n",
      "scheme: .html\n",
      "URL: http://erddap.secoora.org/erddap/tabledap/noaa_nos_co_ops_8728690\n",
      "\n"
     ]
    }
   ],
   "source": [
    "from geolinks import sniff_link\n",
    "\n",
    "msg = 'geolink: {geolink}\\nscheme: {scheme}\\nURL: {url}\\n'.format\n",
    "for ref in value.references:\n",
    "    print(msg(geolink=sniff_link(ref['url']), **ref))"
   ]
  },
  {
   "cell_type": "code",
   "execution_count": 11,
   "metadata": {
    "slideshow": {
     "slide_type": "slide"
    }
   },
   "outputs": [
    {
     "name": "stdout",
     "output_type": "stream",
     "text": [
      "http://erddap.secoora.org/erddap/tabledap/noaa_nos_co_ops_8728690.csvp?sea_surface_height_above_sea_level_geoid_MLLW,sea_water_temperature,time&time>=2018-10-07T00:00:00&time<=2018-10-12T00:00:00\n"
     ]
    }
   ],
   "source": [
    "url = ref['url'] + (\n",
    "    '.csvp?sea_surface_height_above_sea_level_geoid_MLLW,sea_water_temperature,time'\n",
    "    f'&time>={start:%Y-%m-%dT00:00:00}'\n",
    "    f'&time<={stop:%Y-%m-%dT00:00:00}'\n",
    ")\n",
    "\n",
    "print(url)"
   ]
  },
  {
   "cell_type": "code",
   "execution_count": 12,
   "metadata": {
    "slideshow": {
     "slide_type": "slide"
    }
   },
   "outputs": [
    {
     "data": {
      "text/html": [
       "<div>\n",
       "<style scoped>\n",
       "    .dataframe tbody tr th:only-of-type {\n",
       "        vertical-align: middle;\n",
       "    }\n",
       "\n",
       "    .dataframe tbody tr th {\n",
       "        vertical-align: top;\n",
       "    }\n",
       "\n",
       "    .dataframe thead th {\n",
       "        text-align: right;\n",
       "    }\n",
       "</style>\n",
       "<table border=\"1\" class=\"dataframe\">\n",
       "  <thead>\n",
       "    <tr style=\"text-align: right;\">\n",
       "      <th></th>\n",
       "      <th>sea_surface_height_above_sea_level_geoid_MLLW (ft)</th>\n",
       "      <th>sea_water_temperature (degree_Fahrenheit)</th>\n",
       "    </tr>\n",
       "    <tr>\n",
       "      <th>time (UTC)</th>\n",
       "      <th></th>\n",
       "      <th></th>\n",
       "    </tr>\n",
       "  </thead>\n",
       "  <tbody>\n",
       "    <tr>\n",
       "      <th>2018-10-12 00:00:00</th>\n",
       "      <td>2.4311</td>\n",
       "      <td>80.24</td>\n",
       "    </tr>\n",
       "    <tr>\n",
       "      <th>2018-10-11 23:54:00</th>\n",
       "      <td>2.4475</td>\n",
       "      <td>80.24</td>\n",
       "    </tr>\n",
       "    <tr>\n",
       "      <th>2018-10-11 23:48:00</th>\n",
       "      <td>2.4639</td>\n",
       "      <td>80.24</td>\n",
       "    </tr>\n",
       "    <tr>\n",
       "      <th>2018-10-11 23:42:00</th>\n",
       "      <td>2.4770</td>\n",
       "      <td>80.24</td>\n",
       "    </tr>\n",
       "    <tr>\n",
       "      <th>2018-10-11 23:36:00</th>\n",
       "      <td>2.4869</td>\n",
       "      <td>80.24</td>\n",
       "    </tr>\n",
       "  </tbody>\n",
       "</table>\n",
       "</div>"
      ],
      "text/plain": [
       "                     sea_surface_height_above_sea_level_geoid_MLLW (ft)  \\\n",
       "time (UTC)                                                                \n",
       "2018-10-12 00:00:00                                             2.4311    \n",
       "2018-10-11 23:54:00                                             2.4475    \n",
       "2018-10-11 23:48:00                                             2.4639    \n",
       "2018-10-11 23:42:00                                             2.4770    \n",
       "2018-10-11 23:36:00                                             2.4869    \n",
       "\n",
       "                     sea_water_temperature (degree_Fahrenheit)  \n",
       "time (UTC)                                                      \n",
       "2018-10-12 00:00:00                                      80.24  \n",
       "2018-10-11 23:54:00                                      80.24  \n",
       "2018-10-11 23:48:00                                      80.24  \n",
       "2018-10-11 23:42:00                                      80.24  \n",
       "2018-10-11 23:36:00                                      80.24  "
      ]
     },
     "execution_count": 12,
     "metadata": {},
     "output_type": "execute_result"
    }
   ],
   "source": [
    "from erddapy.utilities import urlopen\n",
    "import pandas as pd\n",
    "\n",
    "df = pd.read_csv(\n",
    "    urlopen(url),\n",
    "    index_col='time (UTC)',\n",
    "    parse_dates=True,\n",
    ")\n",
    "\n",
    "df.dropna(inplace=True)\n",
    "df.head()"
   ]
  },
  {
   "cell_type": "code",
   "execution_count": 13,
   "metadata": {
    "slideshow": {
     "slide_type": "slide"
    }
   },
   "outputs": [
    {
     "data": {
      "image/png": "[encoded data removed]",
      "text/plain": [
       "<Figure size 936x270 with 2 Axes>"
      ]
     },
     "metadata": {
      "needs_background": "dark"
     },
     "output_type": "display_data"
    }
   ],
   "source": [
    "import matplotlib.pyplot as plt\n",
    "\n",
    "fig, ax = plt.subplots(figsize=(13, 3.75))\n",
    "ax = df['sea_surface_height_above_sea_level_geoid_MLLW (ft)'].plot(\n",
    "    ax=ax, legend=False)\n",
    "\n",
    "df['sea_water_temperature (degree_Fahrenheit)'].plot(\n",
    "    secondary_y=True, legend=False)\n",
    "\n",
    "ax.set_xlabel('')\n",
    "ax.right_ax.set_ylabel('degree_Fahrenheit')\n",
    "ax.set_ylabel('MLLW (ft)')\n",
    "ax.grid(True)\n",
    "fig.legend(loc='upper center');"
   ]
  }
 ],
 "metadata": {
  "celltoolbar": "Slideshow",
  "kernelspec": {
   "display_name": "Python 3",
   "language": "python",
   "name": "python3"
  },
  "language_info": {
   "codemirror_mode": {
    "name": "ipython",
    "version": 3
   },
   "file_extension": ".py",
   "mimetype": "text/x-python",
   "name": "python",
   "nbconvert_exporter": "python",
   "pygments_lexer": "ipython3",
   "version": "3.6.6"
  },
  "livereveal": {
   "auto_select": "none",
   "autolaunch": "true",
   "footer": " ",
   "header": "<script src='static/theme/reveal.js'></script>",
   "start_slideshow_at": "selected"
  }
 },
 "nbformat": 4,
 "nbformat_minor": 2
}
